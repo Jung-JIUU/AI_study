{
 "cells": [
  {
   "cell_type": "code",
   "execution_count": 1,
   "metadata": {},
   "outputs": [
    {
     "name": "stdout",
     "output_type": "stream",
     "text": [
      "a+b = 85\n",
      "a-b = 61\n",
      "a*b = 876\n",
      "a/b = 6.083333333333333\n",
      "a//b = 6\n",
      "a%b = 1\n"
     ]
    }
   ],
   "source": [
    "a=73\n",
    "b=12\n",
    "\n",
    "print(\"a+b =\", a+b) # 더하기\n",
    "print(\"a-b =\", a-b) # 빼기\n",
    "print(\"a*b =\", a*b) # 곱하기\n",
    "print(\"a/b =\", a/b) # 나누기 \n",
    "print(\"a//b =\", a//b) # 몫\n",
    "print(\"a%b =\", a%b) # 나머지"
   ]
  },
  {
   "cell_type": "code",
   "execution_count": 4,
   "metadata": {},
   "outputs": [
    {
     "name": "stdout",
     "output_type": "stream",
     "text": [
      "Python버전:3.6.5 |Anaconda, Inc.| (default, Mar 29 2018, 13:32:41) [MSC v.1900 64 bit (AMD64)]\n",
      "pandas버전:0.23.0\n",
      "matplot버전:2.2.2\n",
      "numpy버전:1.14.3\n",
      "matplot버전:2.2.2\n",
      "scipy버전:1.1.0\n",
      "IPython:6.4.0\n",
      "sklearn:0.19.1\n"
     ]
    }
   ],
   "source": [
    "import sys\n",
    "print(\"Python버전:{}\".format(sys.version))\n",
    "\n",
    "import pandas as pd\n",
    "print(\"pandas버전:{}\".format(pd.__version__))\n",
    "\n",
    "import matplotlib as plt\n",
    "print(\"matplot버전:{}\".format(plt.__version__))\n",
    "\n",
    "import numpy as np\n",
    "print(\"numpy버전:{}\".format(np.__version__))\n",
    "\n",
    "import matplotlib as plt\n",
    "print(\"matplot버전:{}\".format(plt.__version__))\n",
    "\n",
    "import scipy as sp\n",
    "print(\"scipy버전:{}\".format(sp.__version__))\n",
    "\n",
    "import IPython\n",
    "import sklearn\n",
    "print(\"IPython:{}\".format(IPython.__version__))\n",
    "print(\"sklearn:{}\".format(sklearn.__version__))"
   ]
  },
  {
   "cell_type": "code",
   "execution_count": 1,
   "metadata": {},
   "outputs": [
    {
     "name": "stdout",
     "output_type": "stream",
     "text": [
      "11\n",
      "10\n",
      "24\n",
      "6\n",
      "0.9\n"
     ]
    }
   ],
   "source": [
    "import math  \n",
    "x = 10.2\n",
    "print(math.ceil(x)) # 올림\n",
    "print(math.floor(x)) # 내림\n",
    "print(math.factorial(4)) # 4! == 4 * 3 * 2 * 1\n",
    "print(sum([1,2,3])) #자연수에 강하다 \n",
    "print(math.fsum([.1,.1,.1,.1,.1,.1,.1,.1,.1])) #"
   ]
  },
  {
   "cell_type": "code",
   "execution_count": 2,
   "metadata": {},
   "outputs": [
    {
     "data": {
      "text/plain": [
       "3"
      ]
     },
     "execution_count": 2,
     "metadata": {},
     "output_type": "execute_result"
    }
   ],
   "source": [
    "import numpy as np\n",
    "x= np.array([[1,2,3],[4,5,6]],np.int32)  #ndarray!!!!!\n",
    "type(x) #numpy.ndarray\n",
    "x.dtype #('int32')\n",
    "x.shape #(2,3)\n",
    "x[0,2]"
   ]
  },
  {
   "cell_type": "code",
   "execution_count": 17,
   "metadata": {},
   "outputs": [
    {
     "data": {
      "image/png": "[encoded data removed]",
      "text/plain": [
       "<Figure size 432x288 with 1 Axes>"
      ]
     },
     "metadata": {},
     "output_type": "display_data"
    },
    {
     "data": {
      "text/plain": [
       "<function matplotlib.pyplot.show(*args, **kw)>"
      ]
     },
     "execution_count": 17,
     "metadata": {},
     "output_type": "execute_result"
    },
    {
     "data": {
      "image/png": "[encoded data removed]",
      "text/plain": [
       "<Figure size 432x288 with 1 Axes>"
      ]
     },
     "metadata": {},
     "output_type": "display_data"
    }
   ],
   "source": [
    "import numpy as np\n",
    "import matplotlib.pyplot as plt\n",
    "x = np.arange(0,5,0.5) #0부터5까지 0.5 간격으로\n",
    "y = np.sin(x)\n",
    "plt.plot(x,y)\n",
    "plt.show()\n",
    "\n",
    "y = np.cos(x)\n",
    "plt.plot(x,y)\n",
    "plt.show"
   ]
  },
  {
   "cell_type": "code",
   "execution_count": 10,
   "metadata": {},
   "outputs": [
    {
     "name": "stdout",
     "output_type": "stream",
     "text": [
      "  name  age\n",
      "0  이은정   60\n",
      "1   심준   28\n",
      "2  정지우   27\n"
     ]
    },
    {
     "data": {
      "text/html": [
       "<div>\n",
       "<style scoped>\n",
       "    .dataframe tbody tr th:only-of-type {\n",
       "        vertical-align: middle;\n",
       "    }\n",
       "\n",
       "    .dataframe tbody tr th {\n",
       "        vertical-align: top;\n",
       "    }\n",
       "\n",
       "    .dataframe thead th {\n",
       "        text-align: right;\n",
       "    }\n",
       "</style>\n",
       "<table border=\"1\" class=\"dataframe\">\n",
       "  <thead>\n",
       "    <tr style=\"text-align: right;\">\n",
       "      <th></th>\n",
       "      <th>name</th>\n",
       "      <th>age</th>\n",
       "      <th>age_plus_one</th>\n",
       "      <th>age_time_two</th>\n",
       "      <th>age_squared</th>\n",
       "      <th>over_30</th>\n",
       "    </tr>\n",
       "  </thead>\n",
       "  <tbody>\n",
       "    <tr>\n",
       "      <th>0</th>\n",
       "      <td>이은정</td>\n",
       "      <td>60</td>\n",
       "      <td>61</td>\n",
       "      <td>120</td>\n",
       "      <td>3600</td>\n",
       "      <td>True</td>\n",
       "    </tr>\n",
       "    <tr>\n",
       "      <th>1</th>\n",
       "      <td>심준</td>\n",
       "      <td>28</td>\n",
       "      <td>29</td>\n",
       "      <td>56</td>\n",
       "      <td>784</td>\n",
       "      <td>False</td>\n",
       "    </tr>\n",
       "    <tr>\n",
       "      <th>2</th>\n",
       "      <td>정지우</td>\n",
       "      <td>27</td>\n",
       "      <td>28</td>\n",
       "      <td>54</td>\n",
       "      <td>729</td>\n",
       "      <td>False</td>\n",
       "    </tr>\n",
       "  </tbody>\n",
       "</table>\n",
       "</div>"
      ],
      "text/plain": [
       "  name  age  age_plus_one  age_time_two  age_squared  over_30\n",
       "0  이은정   60            61           120         3600     True\n",
       "1   심준   28            29            56          784    False\n",
       "2  정지우   27            28            54          729    False"
      ]
     },
     "execution_count": 10,
     "metadata": {},
     "output_type": "execute_result"
    }
   ],
   "source": [
    "import pandas as pd\n",
    "df = pd.DataFrame({\n",
    "    \"name\":[\"이은정\",\"심준\",\"정지우\"],\n",
    "    \"age\":[60,28,27]\n",
    "})\n",
    "\n",
    "print(df)\n",
    "\n",
    "df[\"age_plus_one\"] = df[\"age\"]+1\n",
    "df[\"age_time_two\"] = df[\"age\"]*2\n",
    "df[\"age_squared\"] = df[\"age\"]*df[\"age\"]\n",
    "df[\"over_30\"] = (df[\"age\"]> 30)"
   ]
  },
  {
   "cell_type": "code",
   "execution_count": 3,
   "metadata": {},
   "outputs": [
    {
     "name": "stdout",
     "output_type": "stream",
     "text": [
      "0    1\n",
      "1    2\n",
      "2    3\n",
      "dtype: int64\n",
      "RangeIndex(start=0, stop=3, step=1)\n",
      "0    5\n",
      "1    7\n",
      "2    9\n",
      "dtype: int64\n"
     ]
    },
    {
     "data": {
      "text/html": [
       "<div>\n",
       "<style scoped>\n",
       "    .dataframe tbody tr th:only-of-type {\n",
       "        vertical-align: middle;\n",
       "    }\n",
       "\n",
       "    .dataframe tbody tr th {\n",
       "        vertical-align: top;\n",
       "    }\n",
       "\n",
       "    .dataframe thead th {\n",
       "        text-align: right;\n",
       "    }\n",
       "</style>\n",
       "<table border=\"1\" class=\"dataframe\">\n",
       "  <thead>\n",
       "    <tr style=\"text-align: right;\">\n",
       "      <th></th>\n",
       "      <th>0</th>\n",
       "    </tr>\n",
       "  </thead>\n",
       "  <tbody>\n",
       "    <tr>\n",
       "      <th>0</th>\n",
       "      <td>5</td>\n",
       "    </tr>\n",
       "    <tr>\n",
       "      <th>1</th>\n",
       "      <td>7</td>\n",
       "    </tr>\n",
       "    <tr>\n",
       "      <th>2</th>\n",
       "      <td>9</td>\n",
       "    </tr>\n",
       "  </tbody>\n",
       "</table>\n",
       "</div>"
      ],
      "text/plain": [
       "   0\n",
       "0  5\n",
       "1  7\n",
       "2  9"
      ]
     },
     "execution_count": 3,
     "metadata": {},
     "output_type": "execute_result"
    }
   ],
   "source": [
    "import pandas as pd\n",
    "\n",
    "s = pd.Series([1,2,3])\n",
    "print(s)\n",
    "\n",
    "s2 = s+2\n",
    "print(s2.index) #데이터의 합\n",
    "\n",
    "s3 = s+ pd.Series([4,5,6])\n",
    "print(s3)\n",
    "\n",
    "df = pd.DataFrame(s3)\n",
    "df"
   ]
  },
  {
   "cell_type": "code",
   "execution_count": 9,
   "metadata": {},
   "outputs": [
    {
     "name": "stdout",
     "output_type": "stream",
     "text": [
      "   고객번호   이름\n",
      "0  1001   둘리\n",
      "1  1002  도우너\n",
      "2  1003   또치\n",
      "3  1004   길동\n",
      "4  1005   희동\n",
      "5  1006  마이콜\n",
      "6  1007   영희\n",
      "\n",
      " ____________\n",
      "   고객번호      금액\n",
      "0  1001   10000\n",
      "1  1001   20000\n",
      "2  1005   15000\n",
      "3  1006    5000\n",
      "4  1008  100000\n",
      "5  1001   30000\n",
      "\n",
      " ____________\n",
      "   고객번호   이름     금액\n",
      "0  1001   둘리  10000\n",
      "1  1001   둘리  20000\n",
      "2  1001   둘리  30000\n",
      "3  1005   희동  15000\n",
      "4  1006  마이콜   5000\n",
      "\n",
      " ____________\n",
      "   고객번호   이름        금액\n",
      "0  1001   둘리   10000.0\n",
      "1  1001   둘리   20000.0\n",
      "2  1001   둘리   30000.0\n",
      "3  1002  도우너       NaN\n",
      "4  1003   또치       NaN\n",
      "5  1004   길동       NaN\n",
      "6  1005   희동   15000.0\n",
      "7  1006  마이콜    5000.0\n",
      "8  1007   영희       NaN\n",
      "9  1008  NaN  100000.0\n",
      "\n",
      " ____________\n",
      "   고객번호   이름       금액\n",
      "0  1001   둘리  10000.0\n",
      "1  1001   둘리  20000.0\n",
      "2  1001   둘리  30000.0\n",
      "3  1002  도우너      NaN\n",
      "4  1003   또치      NaN\n",
      "5  1004   길동      NaN\n",
      "6  1005   희동  15000.0\n",
      "7  1006  마이콜   5000.0\n",
      "8  1007   영희      NaN\n",
      "\n",
      " ____________\n",
      "   고객번호   이름      금액\n",
      "0  1001   둘리   10000\n",
      "1  1001   둘리   20000\n",
      "2  1001   둘리   30000\n",
      "3  1005   희동   15000\n",
      "4  1006  마이콜    5000\n",
      "5  1008  NaN  100000\n"
     ]
    }
   ],
   "source": [
    "import pandas as pd  #조인\n",
    "df1 = pd.DataFrame({ '고객번호':[1001,1002,1003,1004,1005,1006,1007], \n",
    "                    '이름':['둘리','도우너','또치','길동','희동','마이콜','영희'] }, columns = ['고객번호','이름'])\n",
    "print(df1)\n",
    "print(\"\\n ____________\")\n",
    "\n",
    "df2 = pd.DataFrame({'고객번호':[1001,1001,1005,1006,1008,1001], \n",
    "                    '금액':[10000,20000,15000,5000,100000,30000]},columns = ['고객번호','금액'])\n",
    "print(df2)\n",
    "print(\"\\n ____________\")\n",
    "df3 = pd.merge(df1,df2)\n",
    "print(df3)\n",
    "print(\"\\n ____________\")\n",
    "df3 = pd.merge(df1, df2, how = 'outer')\n",
    "print(df3)\n",
    "print(\"\\n ____________\")\n",
    "df3 = pd.merge(df1, df2, how = 'left')\n",
    "print(df3)\n",
    "print(\"\\n ____________\")\n",
    "df3 = pd.merge(df1, df2, how = 'right')\n",
    "print(df3)"
   ]
  },
  {
   "cell_type": "code",
   "execution_count": 18,
   "metadata": {},
   "outputs": [
    {
     "name": "stdout",
     "output_type": "stream",
     "text": [
      "   이름  성적\n",
      "0  영희   1\n",
      "1  철수   2\n",
      "2  철수   3\n",
      "   성명  성적2\n",
      "0  영희    4\n",
      "1  영희    5\n",
      "2  철수    6\n",
      "   이름  성적  성명  성적2\n",
      "0  영희   1  영희    4\n",
      "1  영희   1  영희    5\n",
      "2  철수   2  철수    6\n",
      "3  철수   3  철수    6\n"
     ]
    }
   ],
   "source": [
    "import pandas as pd\n",
    "\n",
    "df1 = pd.DataFrame({'이름':['영희','철수','철수'],\n",
    "                   '성적':[1,2,3]})\n",
    "print(df1)\n",
    "\n",
    "df2 = pd.DataFrame({'성명':['영희','영희','철수'], #조인할 컬럼이 없을때 지정해서 잡아준다\n",
    "                   '성적2':[4,5,6]})\n",
    "print(df2)\n",
    "\n",
    "df3 = pd.merge(df1,df2, left_on='이름', right_on='성명')\n",
    "print(df3)"
   ]
  },
  {
   "cell_type": "code",
   "execution_count": 7,
   "metadata": {},
   "outputs": [],
   "source": [
    "import pandas as pd\n",
    "import numpy as np\n",
    "\n",
    "df1 = pd.DataFrame({\n",
    "    '도시':['서울','서울','서울','부산','부산'],\n",
    "    '연도':[2000,2005,2010,2000,2005],\n",
    "    '인구':[9853972,9762546,9631482,3655437,3512547]})\n",
    "\n",
    "df2 = pd.DataFrame(\n",
    "np.ndarray(12).reshape((6,2)),\n",
    "index = [['부산','부산','서울','서울','서울','서울'],[2000,2005,2000,2005,2010,2015]], columns = ['데이터1','데이터2'])\n",
    "df3 = pd.merge(df1, df2,left_on=['도시','연도'], right_index=True) #도시하나만 잡으면 안잡힌다"
   ]
  },
  {
   "cell_type": "code",
   "execution_count": 8,
   "metadata": {
    "collapsed": true
   },
   "outputs": [
    {
     "name": "stdout",
     "output_type": "stream",
     "text": [
      "    서울   부산\n",
      "a  1.0  2.0\n",
      "b  3.0  4.0\n",
      "c  5.0  6.0\n",
      "     대구    광주\n",
      "b   7.0   8.0\n",
      "c   9.0  10.0\n",
      "d  11.0  12.0\n",
      "e  13.0  14.0\n",
      "    서울   부산    대구    광주\n",
      "a  1.0  2.0   NaN   NaN\n",
      "b  3.0  4.0   7.0   8.0\n",
      "c  5.0  6.0   9.0  10.0\n",
      "d  NaN  NaN  11.0  12.0\n",
      "e  NaN  NaN  13.0  14.0\n"
     ]
    }
   ],
   "source": [
    "import pandas as pd\n",
    "\n",
    "df1 = pd.DataFrame(\n",
    "[[1.,2.],[3.,4.],[5.,6.]],\n",
    "index = ['a','b','c'],\n",
    "columns = ['서울','부산'])\n",
    "print(df1)\n",
    "\n",
    "df2 = pd.DataFrame(\n",
    "[[7.,8.],[9.,10.],[11.,12.],[13.,14.]], #인덱스끼리 조인을 걸어준다\n",
    "index = ['b','c','d','e'],\n",
    "columns = ['대구','광주'])\n",
    "print(df2)\n",
    "\n",
    "df3 = pd.merge(df1,df2,how = 'outer',\n",
    "              left_index =True, right_index = True)\n",
    "print(df3)"
   ]
  },
  {
   "cell_type": "code",
   "execution_count": 24,
   "metadata": {},
   "outputs": [
    {
     "name": "stdout",
     "output_type": "stream",
     "text": [
      "이름: 김은지 나이:25\n",
      "X = 3.142, Y=      3.142\n"
     ]
    }
   ],
   "source": [
    "p = \"이름: %s 나이:%d\" %(\"김은지\",25)\n",
    "print(p)\n",
    "\n",
    "p = \"X = %0.3f, Y= %10.3f\" %(3.141592,3.141592)\n",
    "print(p)"
   ]
  },
  {
   "cell_type": "code",
   "execution_count": 26,
   "metadata": {},
   "outputs": [
    {
     "name": "stdout",
     "output_type": "stream",
     "text": [
      "가나,다라,마바\n",
      "['가나', '다라', '마바']\n",
      "Seattle\n"
     ]
    }
   ],
   "source": [
    "s = ','.join(['가나','다라','마바'])\n",
    "print(s)\n",
    "\n",
    "items = s.split(',')\n",
    "print(items)\n",
    "\n",
    "deaparture, _, arrival = \"Seattle-Seoul\".partition('-')\n",
    "print(deaparture)"
   ]
  },
  {
   "cell_type": "code",
   "execution_count": 77,
   "metadata": {},
   "outputs": [
    {
     "name": "stdout",
     "output_type": "stream",
     "text": [
      "Name:김민석, Age:25\n",
      "Name:김민석, Age:25\n",
      "width : 10, height : 20\n"
     ]
    }
   ],
   "source": [
    "s = \"Name:{0}, Age:{1}\".format(\"김민석\",25) #위치를 기준으로 한 포맷팅\n",
    "print(s)\n",
    "\n",
    "s = \"Name:{name}, Age:{age}\".format(name=\"김민석\",age=25) #필드명을 기준으로 한 포맷팅\n",
    "print(s)\n",
    "\n",
    "area = (10, 20)\n",
    "s= \"width : {x[0]}, height : {x[1]}\".format(x = area) #인덱스 혹은 키를 사용하여 포맷팅\n",
    "print(s)"
   ]
  },
  {
   "cell_type": "code",
   "execution_count": null,
   "metadata": {},
   "outputs": [],
   "source": []
  },
  {
   "cell_type": "code",
   "execution_count": 59,
   "metadata": {},
   "outputs": [],
   "source": [
    "import pandas as pd  #조인\n",
    "df2 = pd.DataFrame({ '고객번호':[1001,1001,1003,1004,1005,1006,1007,1008,1009,1001], \n",
    "                    '이름':['둘리','도우너','또치','길동','희동','마이콜','영희','반희','잔나','춘추'],\n",
    "                   '금액':[10000,10000,15000,5000,100000,30000,20000,10000,30000,40000]}, columns = ['고객번호','이름','금액'])\n",
    "\n",
    "df3 = pd.DataFrame({ '고객번호':[1001,1003,1004,1005,1006,1007], \n",
    "                    '이름':['둘리','또치','길동','희동','마이콜','영희'],\n",
    "                   '금액':[10000,15000,5000,100000,30000,20000],\n",
    "                   '센':[0,0,0,0,0,0]}, columns = ['고객번호','이름','금액','센'])"
   ]
  },
  {
   "cell_type": "code",
   "execution_count": 67,
   "metadata": {},
   "outputs": [
    {
     "data": {
      "text/html": [
       "<div>\n",
       "<style scoped>\n",
       "    .dataframe tbody tr th:only-of-type {\n",
       "        vertical-align: middle;\n",
       "    }\n",
       "\n",
       "    .dataframe tbody tr th {\n",
       "        vertical-align: top;\n",
       "    }\n",
       "\n",
       "    .dataframe thead th {\n",
       "        text-align: right;\n",
       "    }\n",
       "</style>\n",
       "<table border=\"1\" class=\"dataframe\">\n",
       "  <thead>\n",
       "    <tr style=\"text-align: right;\">\n",
       "      <th></th>\n",
       "      <th>고객번호</th>\n",
       "      <th>이름</th>\n",
       "      <th>금액</th>\n",
       "    </tr>\n",
       "  </thead>\n",
       "  <tbody>\n",
       "    <tr>\n",
       "      <th>0</th>\n",
       "      <td>1001</td>\n",
       "      <td>둘리</td>\n",
       "      <td>10000</td>\n",
       "    </tr>\n",
       "    <tr>\n",
       "      <th>1</th>\n",
       "      <td>1001</td>\n",
       "      <td>도우너</td>\n",
       "      <td>10000</td>\n",
       "    </tr>\n",
       "    <tr>\n",
       "      <th>2</th>\n",
       "      <td>1003</td>\n",
       "      <td>또치</td>\n",
       "      <td>15000</td>\n",
       "    </tr>\n",
       "    <tr>\n",
       "      <th>3</th>\n",
       "      <td>1004</td>\n",
       "      <td>길동</td>\n",
       "      <td>5000</td>\n",
       "    </tr>\n",
       "    <tr>\n",
       "      <th>4</th>\n",
       "      <td>1005</td>\n",
       "      <td>희동</td>\n",
       "      <td>100000</td>\n",
       "    </tr>\n",
       "    <tr>\n",
       "      <th>5</th>\n",
       "      <td>1006</td>\n",
       "      <td>마이콜</td>\n",
       "      <td>30000</td>\n",
       "    </tr>\n",
       "    <tr>\n",
       "      <th>6</th>\n",
       "      <td>1007</td>\n",
       "      <td>영희</td>\n",
       "      <td>20000</td>\n",
       "    </tr>\n",
       "    <tr>\n",
       "      <th>7</th>\n",
       "      <td>1008</td>\n",
       "      <td>반희</td>\n",
       "      <td>10000</td>\n",
       "    </tr>\n",
       "    <tr>\n",
       "      <th>8</th>\n",
       "      <td>1009</td>\n",
       "      <td>잔나</td>\n",
       "      <td>30000</td>\n",
       "    </tr>\n",
       "    <tr>\n",
       "      <th>9</th>\n",
       "      <td>1001</td>\n",
       "      <td>춘추</td>\n",
       "      <td>40000</td>\n",
       "    </tr>\n",
       "  </tbody>\n",
       "</table>\n",
       "</div>"
      ],
      "text/plain": [
       "   고객번호   이름      금액\n",
       "0  1001   둘리   10000\n",
       "1  1001  도우너   10000\n",
       "2  1003   또치   15000\n",
       "3  1004   길동    5000\n",
       "4  1005   희동  100000\n",
       "5  1006  마이콜   30000\n",
       "6  1007   영희   20000\n",
       "7  1008   반희   10000\n",
       "8  1009   잔나   30000\n",
       "9  1001   춘추   40000"
      ]
     },
     "execution_count": 67,
     "metadata": {},
     "output_type": "execute_result"
    }
   ],
   "source": [
    "df2"
   ]
  },
  {
   "cell_type": "code",
   "execution_count": 70,
   "metadata": {},
   "outputs": [
    {
     "data": {
      "text/html": [
       "<div>\n",
       "<style scoped>\n",
       "    .dataframe tbody tr th:only-of-type {\n",
       "        vertical-align: middle;\n",
       "    }\n",
       "\n",
       "    .dataframe tbody tr th {\n",
       "        vertical-align: top;\n",
       "    }\n",
       "\n",
       "    .dataframe thead th {\n",
       "        text-align: right;\n",
       "    }\n",
       "</style>\n",
       "<table border=\"1\" class=\"dataframe\">\n",
       "  <thead>\n",
       "    <tr style=\"text-align: right;\">\n",
       "      <th></th>\n",
       "      <th>고객번호</th>\n",
       "      <th>이름</th>\n",
       "      <th>금액</th>\n",
       "      <th>센</th>\n",
       "    </tr>\n",
       "  </thead>\n",
       "  <tbody>\n",
       "    <tr>\n",
       "      <th>0</th>\n",
       "      <td>1001</td>\n",
       "      <td>둘리</td>\n",
       "      <td>10000</td>\n",
       "      <td>0.0</td>\n",
       "    </tr>\n",
       "    <tr>\n",
       "      <th>1</th>\n",
       "      <td>1001</td>\n",
       "      <td>도우너</td>\n",
       "      <td>10000</td>\n",
       "      <td>NaN</td>\n",
       "    </tr>\n",
       "    <tr>\n",
       "      <th>2</th>\n",
       "      <td>1003</td>\n",
       "      <td>또치</td>\n",
       "      <td>15000</td>\n",
       "      <td>0.0</td>\n",
       "    </tr>\n",
       "    <tr>\n",
       "      <th>3</th>\n",
       "      <td>1004</td>\n",
       "      <td>길동</td>\n",
       "      <td>5000</td>\n",
       "      <td>0.0</td>\n",
       "    </tr>\n",
       "    <tr>\n",
       "      <th>4</th>\n",
       "      <td>1005</td>\n",
       "      <td>희동</td>\n",
       "      <td>100000</td>\n",
       "      <td>0.0</td>\n",
       "    </tr>\n",
       "    <tr>\n",
       "      <th>5</th>\n",
       "      <td>1006</td>\n",
       "      <td>마이콜</td>\n",
       "      <td>30000</td>\n",
       "      <td>0.0</td>\n",
       "    </tr>\n",
       "    <tr>\n",
       "      <th>6</th>\n",
       "      <td>1007</td>\n",
       "      <td>영희</td>\n",
       "      <td>20000</td>\n",
       "      <td>0.0</td>\n",
       "    </tr>\n",
       "    <tr>\n",
       "      <th>7</th>\n",
       "      <td>1008</td>\n",
       "      <td>반희</td>\n",
       "      <td>10000</td>\n",
       "      <td>NaN</td>\n",
       "    </tr>\n",
       "    <tr>\n",
       "      <th>8</th>\n",
       "      <td>1009</td>\n",
       "      <td>잔나</td>\n",
       "      <td>30000</td>\n",
       "      <td>NaN</td>\n",
       "    </tr>\n",
       "    <tr>\n",
       "      <th>9</th>\n",
       "      <td>1001</td>\n",
       "      <td>춘추</td>\n",
       "      <td>40000</td>\n",
       "      <td>NaN</td>\n",
       "    </tr>\n",
       "  </tbody>\n",
       "</table>\n",
       "</div>"
      ],
      "text/plain": [
       "   고객번호   이름      금액    센\n",
       "0  1001   둘리   10000  0.0\n",
       "1  1001  도우너   10000  NaN\n",
       "2  1003   또치   15000  0.0\n",
       "3  1004   길동    5000  0.0\n",
       "4  1005   희동  100000  0.0\n",
       "5  1006  마이콜   30000  0.0\n",
       "6  1007   영희   20000  0.0\n",
       "7  1008   반희   10000  NaN\n",
       "8  1009   잔나   30000  NaN\n",
       "9  1001   춘추   40000  NaN"
      ]
     },
     "execution_count": 70,
     "metadata": {},
     "output_type": "execute_result"
    }
   ],
   "source": [
    "pd.merge(df2,df3,how='left')"
   ]
  },
  {
   "cell_type": "code",
   "execution_count": 55,
   "metadata": {},
   "outputs": [
    {
     "data": {
      "text/html": [
       "<div>\n",
       "<style scoped>\n",
       "    .dataframe tbody tr th:only-of-type {\n",
       "        vertical-align: middle;\n",
       "    }\n",
       "\n",
       "    .dataframe tbody tr th {\n",
       "        vertical-align: top;\n",
       "    }\n",
       "\n",
       "    .dataframe thead th {\n",
       "        text-align: right;\n",
       "    }\n",
       "</style>\n",
       "<table border=\"1\" class=\"dataframe\">\n",
       "  <thead>\n",
       "    <tr style=\"text-align: right;\">\n",
       "      <th></th>\n",
       "      <th>고객번호</th>\n",
       "      <th>금액</th>\n",
       "      <th>센</th>\n",
       "    </tr>\n",
       "  </thead>\n",
       "  <tbody>\n",
       "    <tr>\n",
       "      <th>0</th>\n",
       "      <td>1001</td>\n",
       "      <td>10000</td>\n",
       "      <td>0</td>\n",
       "    </tr>\n",
       "    <tr>\n",
       "      <th>1</th>\n",
       "      <td>1003</td>\n",
       "      <td>15000</td>\n",
       "      <td>0</td>\n",
       "    </tr>\n",
       "    <tr>\n",
       "      <th>2</th>\n",
       "      <td>1004</td>\n",
       "      <td>5000</td>\n",
       "      <td>0</td>\n",
       "    </tr>\n",
       "    <tr>\n",
       "      <th>3</th>\n",
       "      <td>1005</td>\n",
       "      <td>100000</td>\n",
       "      <td>0</td>\n",
       "    </tr>\n",
       "    <tr>\n",
       "      <th>4</th>\n",
       "      <td>1006</td>\n",
       "      <td>30000</td>\n",
       "      <td>0</td>\n",
       "    </tr>\n",
       "    <tr>\n",
       "      <th>5</th>\n",
       "      <td>1007</td>\n",
       "      <td>20000</td>\n",
       "      <td>0</td>\n",
       "    </tr>\n",
       "  </tbody>\n",
       "</table>\n",
       "</div>"
      ],
      "text/plain": [
       "   고객번호      금액  센\n",
       "0  1001   10000  0\n",
       "1  1003   15000  0\n",
       "2  1004    5000  0\n",
       "3  1005  100000  0\n",
       "4  1006   30000  0\n",
       "5  1007   20000  0"
      ]
     },
     "execution_count": 55,
     "metadata": {},
     "output_type": "execute_result"
    }
   ],
   "source": [
    "df3"
   ]
  },
  {
   "cell_type": "code",
   "execution_count": 24,
   "metadata": {},
   "outputs": [],
   "source": [
    "x = df3.update(df4)\n",
    "x"
   ]
  },
  {
   "cell_type": "code",
   "execution_count": 18,
   "metadata": {},
   "outputs": [
    {
     "data": {
      "text/html": [
       "<div>\n",
       "<style scoped>\n",
       "    .dataframe tbody tr th:only-of-type {\n",
       "        vertical-align: middle;\n",
       "    }\n",
       "\n",
       "    .dataframe tbody tr th {\n",
       "        vertical-align: top;\n",
       "    }\n",
       "\n",
       "    .dataframe thead th {\n",
       "        text-align: right;\n",
       "    }\n",
       "</style>\n",
       "<table border=\"1\" class=\"dataframe\">\n",
       "  <thead>\n",
       "    <tr style=\"text-align: right;\">\n",
       "      <th></th>\n",
       "      <th>고객번호</th>\n",
       "      <th>이름</th>\n",
       "      <th>금액</th>\n",
       "    </tr>\n",
       "  </thead>\n",
       "  <tbody>\n",
       "    <tr>\n",
       "      <th>5</th>\n",
       "      <td>1004</td>\n",
       "      <td>길동</td>\n",
       "      <td>NaN</td>\n",
       "    </tr>\n",
       "    <tr>\n",
       "      <th>3</th>\n",
       "      <td>1002</td>\n",
       "      <td>도우너</td>\n",
       "      <td>NaN</td>\n",
       "    </tr>\n",
       "    <tr>\n",
       "      <th>0</th>\n",
       "      <td>1001</td>\n",
       "      <td>둘리</td>\n",
       "      <td>10000.0</td>\n",
       "    </tr>\n",
       "    <tr>\n",
       "      <th>1</th>\n",
       "      <td>1001</td>\n",
       "      <td>둘리</td>\n",
       "      <td>20000.0</td>\n",
       "    </tr>\n",
       "    <tr>\n",
       "      <th>2</th>\n",
       "      <td>1001</td>\n",
       "      <td>둘리</td>\n",
       "      <td>30000.0</td>\n",
       "    </tr>\n",
       "    <tr>\n",
       "      <th>4</th>\n",
       "      <td>1003</td>\n",
       "      <td>또치</td>\n",
       "      <td>NaN</td>\n",
       "    </tr>\n",
       "    <tr>\n",
       "      <th>7</th>\n",
       "      <td>1006</td>\n",
       "      <td>마이콜</td>\n",
       "      <td>5000.0</td>\n",
       "    </tr>\n",
       "    <tr>\n",
       "      <th>8</th>\n",
       "      <td>1007</td>\n",
       "      <td>영희</td>\n",
       "      <td>NaN</td>\n",
       "    </tr>\n",
       "    <tr>\n",
       "      <th>6</th>\n",
       "      <td>1005</td>\n",
       "      <td>희동</td>\n",
       "      <td>15000.0</td>\n",
       "    </tr>\n",
       "    <tr>\n",
       "      <th>9</th>\n",
       "      <td>1008</td>\n",
       "      <td>NaN</td>\n",
       "      <td>100000.0</td>\n",
       "    </tr>\n",
       "  </tbody>\n",
       "</table>\n",
       "</div>"
      ],
      "text/plain": [
       "   고객번호   이름        금액\n",
       "5  1004   길동       NaN\n",
       "3  1002  도우너       NaN\n",
       "0  1001   둘리   10000.0\n",
       "1  1001   둘리   20000.0\n",
       "2  1001   둘리   30000.0\n",
       "4  1003   또치       NaN\n",
       "7  1006  마이콜    5000.0\n",
       "8  1007   영희       NaN\n",
       "6  1005   희동   15000.0\n",
       "9  1008  NaN  100000.0"
      ]
     },
     "execution_count": 18,
     "metadata": {},
     "output_type": "execute_result"
    }
   ],
   "source": [
    "df3 = pd.merge(df1, df2, how = 'outer')\n",
    "df3\n",
    "df4 = df3.sort_values(by=['이름'])\n",
    "df4"
   ]
  }
 ],
 "metadata": {
  "kernelspec": {
   "display_name": "Python 3",
   "language": "python",
   "name": "python3"
  },
  "language_info": {
   "codemirror_mode": {
    "name": "ipython",
    "version": 3
   },
   "file_extension": ".py",
   "mimetype": "text/x-python",
   "name": "python",
   "nbconvert_exporter": "python",
   "pygments_lexer": "ipython3",
   "version": "3.6.7"
  }
 },
 "nbformat": 4,
 "nbformat_minor": 2
}
